{
 "cells": [
  {
   "cell_type": "code",
   "execution_count": 7,
   "id": "8fc059aa",
   "metadata": {},
   "outputs": [],
   "source": [
    "import pandas as pd\n"
   ]
  },
  {
   "cell_type": "markdown",
   "id": "3eed575b",
   "metadata": {},
   "source": [
    "Upload Datasets"
   ]
  },
  {
   "cell_type": "code",
   "execution_count": 8,
   "id": "e1835344",
   "metadata": {},
   "outputs": [
    {
     "name": "stdout",
     "output_type": "stream",
     "text": [
      "<class 'pandas.core.frame.DataFrame'>\n",
      "RangeIndex: 746 entries, 0 to 745\n",
      "Data columns (total 16 columns):\n",
      " #   Column                   Non-Null Count  Dtype  \n",
      "---  ------                   --------------  -----  \n",
      " 0   ID                       746 non-null    int64  \n",
      " 1   Age                      746 non-null    int64  \n",
      " 2   Gender                   746 non-null    object \n",
      " 3   Patient_Address          746 non-null    object \n",
      " 4   Chest_Pain_Type          746 non-null    object \n",
      " 5   Resting_Blood_Pressure   742 non-null    float64\n",
      " 6   Cholesterol_Level        722 non-null    float64\n",
      " 7   Fasting_Blood_Sugar      660 non-null    object \n",
      " 8   Resting_ECG              744 non-null    object \n",
      " 9   Thalch                   743 non-null    float64\n",
      " 10  Exercise_Induced_Angina  743 non-null    object \n",
      " 11  Oldpeak                  739 non-null    float64\n",
      " 12  Slope                    529 non-null    object \n",
      " 13  CA                       312 non-null    float64\n",
      " 14  Thal                     406 non-null    object \n",
      " 15  Have_Heart_Disease       746 non-null    int64  \n",
      "dtypes: float64(5), int64(3), object(8)\n",
      "memory usage: 93.4+ KB\n"
     ]
    }
   ],
   "source": [
    "df = pd.read_csv(r\"C:\\Users\\ukasy\\project ML\\MBC_Project\\train.csv\")\n",
    "\n",
    "df.info()"
   ]
  },
  {
   "cell_type": "markdown",
   "id": "238cdf64",
   "metadata": {},
   "source": [
    "Drop kolom yg kurg berguna"
   ]
  },
  {
   "cell_type": "code",
   "execution_count": null,
   "id": "f760d733",
   "metadata": {},
   "outputs": [
    {
     "name": "stdout",
     "output_type": "stream",
     "text": [
      "<class 'pandas.core.frame.DataFrame'>\n",
      "RangeIndex: 746 entries, 0 to 745\n",
      "Data columns (total 14 columns):\n",
      " #   Column                   Non-Null Count  Dtype  \n",
      "---  ------                   --------------  -----  \n",
      " 0   Age                      746 non-null    int64  \n",
      " 1   Gender                   746 non-null    object \n",
      " 2   Chest_Pain_Type          746 non-null    object \n",
      " 3   Resting_Blood_Pressure   742 non-null    float64\n",
      " 4   Cholesterol_Level        722 non-null    float64\n",
      " 5   Fasting_Blood_Sugar      660 non-null    object \n",
      " 6   Resting_ECG              744 non-null    object \n",
      " 7   Thalch                   743 non-null    float64\n",
      " 8   Exercise_Induced_Angina  743 non-null    object \n",
      " 9   Oldpeak                  739 non-null    float64\n",
      " 10  Slope                    529 non-null    object \n",
      " 11  CA                       312 non-null    float64\n",
      " 12  Thal                     406 non-null    object \n",
      " 13  Have_Heart_Disease       746 non-null    int64  \n",
      "dtypes: float64(5), int64(2), object(7)\n",
      "memory usage: 81.7+ KB\n"
     ]
    }
   ],
   "source": [
    "drop_cols = ['ID', 'Patient_Address']\n",
    "\n",
    "df.drop(columns=drop_cols, inplace=True)\n",
    "\n",
    "df.info()"
   ]
  },
  {
   "cell_type": "markdown",
   "id": "58e7b343",
   "metadata": {},
   "source": [
    "liat missinga values"
   ]
  },
  {
   "cell_type": "code",
   "execution_count": 10,
   "id": "af209f9f",
   "metadata": {},
   "outputs": [
    {
     "data": {
      "text/plain": [
       "Age                          0\n",
       "Gender                       0\n",
       "Chest_Pain_Type              0\n",
       "Resting_Blood_Pressure       4\n",
       "Cholesterol_Level           24\n",
       "Fasting_Blood_Sugar         86\n",
       "Resting_ECG                  2\n",
       "Thalch                       3\n",
       "Exercise_Induced_Angina      3\n",
       "Oldpeak                      7\n",
       "Slope                      217\n",
       "CA                         434\n",
       "Thal                       340\n",
       "Have_Heart_Disease           0\n",
       "dtype: int64"
      ]
     },
     "execution_count": 10,
     "metadata": {},
     "output_type": "execute_result"
    }
   ],
   "source": [
    "df.isna().sum()"
   ]
  },
  {
   "cell_type": "markdown",
   "id": "b4a2788d",
   "metadata": {},
   "source": [
    "Liat skew (untuk menentukan masukan missing values )"
   ]
  },
  {
   "cell_type": "code",
   "execution_count": 13,
   "id": "a06577d4",
   "metadata": {},
   "outputs": [
    {
     "name": "stdout",
     "output_type": "stream",
     "text": [
      "skew Age = -0.14572828731042073\n",
      "skew Resting_Blood_Pressure = 0.6861549193348193\n",
      "skew Cholesterol_Level = -0.6222989646217472\n",
      "skew Thalch = -0.3519498835382844\n",
      "skew Oldpeak = 1.2304560385077283\n",
      "skew CA = 1.1547056649864775\n",
      "skew Have_Heart_Disease = 0.0\n",
      "['Age', 'Resting_Blood_Pressure', 'Cholesterol_Level', 'Thalch', 'Oldpeak', 'CA', 'Have_Heart_Disease']\n"
     ]
    }
   ],
   "source": [
    "cols = df.select_dtypes(include='number').columns.tolist()\n",
    "\n",
    "for col in cols:\n",
    "    skew_cols = df[col].skew()\n",
    "    print(f\"skew {col} = {skew_cols}\")\n",
    "\n",
    "    \n",
    "print(cols)"
   ]
  },
  {
   "cell_type": "markdown",
   "id": "fa0cacba",
   "metadata": {},
   "source": [
    "Cek DF"
   ]
  },
  {
   "cell_type": "code",
   "execution_count": 14,
   "id": "8140da87",
   "metadata": {},
   "outputs": [
    {
     "data": {
      "text/html": [
       "<div>\n",
       "<style scoped>\n",
       "    .dataframe tbody tr th:only-of-type {\n",
       "        vertical-align: middle;\n",
       "    }\n",
       "\n",
       "    .dataframe tbody tr th {\n",
       "        vertical-align: top;\n",
       "    }\n",
       "\n",
       "    .dataframe thead th {\n",
       "        text-align: right;\n",
       "    }\n",
       "</style>\n",
       "<table border=\"1\" class=\"dataframe\">\n",
       "  <thead>\n",
       "    <tr style=\"text-align: right;\">\n",
       "      <th></th>\n",
       "      <th>Age</th>\n",
       "      <th>Gender</th>\n",
       "      <th>Chest_Pain_Type</th>\n",
       "      <th>Resting_Blood_Pressure</th>\n",
       "      <th>Cholesterol_Level</th>\n",
       "      <th>Fasting_Blood_Sugar</th>\n",
       "      <th>Resting_ECG</th>\n",
       "      <th>Thalch</th>\n",
       "      <th>Exercise_Induced_Angina</th>\n",
       "      <th>Oldpeak</th>\n",
       "      <th>Slope</th>\n",
       "      <th>CA</th>\n",
       "      <th>Thal</th>\n",
       "      <th>Have_Heart_Disease</th>\n",
       "    </tr>\n",
       "  </thead>\n",
       "  <tbody>\n",
       "    <tr>\n",
       "      <th>0</th>\n",
       "      <td>63</td>\n",
       "      <td>Male</td>\n",
       "      <td>typical angina</td>\n",
       "      <td>145.0</td>\n",
       "      <td>233.0</td>\n",
       "      <td>True</td>\n",
       "      <td>lv hypertrophy</td>\n",
       "      <td>150.0</td>\n",
       "      <td>False</td>\n",
       "      <td>2.3</td>\n",
       "      <td>downsloping</td>\n",
       "      <td>0.0</td>\n",
       "      <td>fixed defect</td>\n",
       "      <td>0</td>\n",
       "    </tr>\n",
       "    <tr>\n",
       "      <th>1</th>\n",
       "      <td>67</td>\n",
       "      <td>Male</td>\n",
       "      <td>asymptomatic</td>\n",
       "      <td>160.0</td>\n",
       "      <td>286.0</td>\n",
       "      <td>False</td>\n",
       "      <td>lv hypertrophy</td>\n",
       "      <td>108.0</td>\n",
       "      <td>True</td>\n",
       "      <td>1.5</td>\n",
       "      <td>flat</td>\n",
       "      <td>3.0</td>\n",
       "      <td>normal</td>\n",
       "      <td>1</td>\n",
       "    </tr>\n",
       "    <tr>\n",
       "      <th>2</th>\n",
       "      <td>67</td>\n",
       "      <td>Male</td>\n",
       "      <td>asymptomatic</td>\n",
       "      <td>120.0</td>\n",
       "      <td>229.0</td>\n",
       "      <td>False</td>\n",
       "      <td>lv hypertrophy</td>\n",
       "      <td>129.0</td>\n",
       "      <td>True</td>\n",
       "      <td>2.6</td>\n",
       "      <td>flat</td>\n",
       "      <td>2.0</td>\n",
       "      <td>reversable defect</td>\n",
       "      <td>1</td>\n",
       "    </tr>\n",
       "    <tr>\n",
       "      <th>3</th>\n",
       "      <td>37</td>\n",
       "      <td>Male</td>\n",
       "      <td>non-anginal</td>\n",
       "      <td>130.0</td>\n",
       "      <td>250.0</td>\n",
       "      <td>False</td>\n",
       "      <td>normal</td>\n",
       "      <td>187.0</td>\n",
       "      <td>False</td>\n",
       "      <td>3.5</td>\n",
       "      <td>downsloping</td>\n",
       "      <td>0.0</td>\n",
       "      <td>normal</td>\n",
       "      <td>0</td>\n",
       "    </tr>\n",
       "    <tr>\n",
       "      <th>4</th>\n",
       "      <td>41</td>\n",
       "      <td>Female</td>\n",
       "      <td>atypical angina</td>\n",
       "      <td>130.0</td>\n",
       "      <td>204.0</td>\n",
       "      <td>False</td>\n",
       "      <td>lv hypertrophy</td>\n",
       "      <td>172.0</td>\n",
       "      <td>False</td>\n",
       "      <td>1.4</td>\n",
       "      <td>upsloping</td>\n",
       "      <td>0.0</td>\n",
       "      <td>normal</td>\n",
       "      <td>0</td>\n",
       "    </tr>\n",
       "    <tr>\n",
       "      <th>5</th>\n",
       "      <td>56</td>\n",
       "      <td>Male</td>\n",
       "      <td>atypical angina</td>\n",
       "      <td>120.0</td>\n",
       "      <td>236.0</td>\n",
       "      <td>False</td>\n",
       "      <td>normal</td>\n",
       "      <td>178.0</td>\n",
       "      <td>False</td>\n",
       "      <td>0.8</td>\n",
       "      <td>upsloping</td>\n",
       "      <td>0.0</td>\n",
       "      <td>normal</td>\n",
       "      <td>0</td>\n",
       "    </tr>\n",
       "    <tr>\n",
       "      <th>6</th>\n",
       "      <td>62</td>\n",
       "      <td>Female</td>\n",
       "      <td>asymptomatic</td>\n",
       "      <td>140.0</td>\n",
       "      <td>268.0</td>\n",
       "      <td>False</td>\n",
       "      <td>lv hypertrophy</td>\n",
       "      <td>160.0</td>\n",
       "      <td>False</td>\n",
       "      <td>3.6</td>\n",
       "      <td>downsloping</td>\n",
       "      <td>2.0</td>\n",
       "      <td>normal</td>\n",
       "      <td>1</td>\n",
       "    </tr>\n",
       "    <tr>\n",
       "      <th>7</th>\n",
       "      <td>57</td>\n",
       "      <td>Female</td>\n",
       "      <td>asymptomatic</td>\n",
       "      <td>120.0</td>\n",
       "      <td>354.0</td>\n",
       "      <td>False</td>\n",
       "      <td>normal</td>\n",
       "      <td>163.0</td>\n",
       "      <td>True</td>\n",
       "      <td>0.6</td>\n",
       "      <td>upsloping</td>\n",
       "      <td>0.0</td>\n",
       "      <td>normal</td>\n",
       "      <td>0</td>\n",
       "    </tr>\n",
       "    <tr>\n",
       "      <th>8</th>\n",
       "      <td>63</td>\n",
       "      <td>Male</td>\n",
       "      <td>asymptomatic</td>\n",
       "      <td>130.0</td>\n",
       "      <td>254.0</td>\n",
       "      <td>False</td>\n",
       "      <td>lv hypertrophy</td>\n",
       "      <td>147.0</td>\n",
       "      <td>False</td>\n",
       "      <td>1.4</td>\n",
       "      <td>flat</td>\n",
       "      <td>1.0</td>\n",
       "      <td>reversable defect</td>\n",
       "      <td>1</td>\n",
       "    </tr>\n",
       "    <tr>\n",
       "      <th>9</th>\n",
       "      <td>53</td>\n",
       "      <td>Male</td>\n",
       "      <td>asymptomatic</td>\n",
       "      <td>140.0</td>\n",
       "      <td>203.0</td>\n",
       "      <td>True</td>\n",
       "      <td>lv hypertrophy</td>\n",
       "      <td>155.0</td>\n",
       "      <td>True</td>\n",
       "      <td>3.1</td>\n",
       "      <td>downsloping</td>\n",
       "      <td>0.0</td>\n",
       "      <td>reversable defect</td>\n",
       "      <td>1</td>\n",
       "    </tr>\n",
       "  </tbody>\n",
       "</table>\n",
       "</div>"
      ],
      "text/plain": [
       "   Age  Gender  Chest_Pain_Type  Resting_Blood_Pressure  Cholesterol_Level  \\\n",
       "0   63    Male   typical angina                   145.0              233.0   \n",
       "1   67    Male     asymptomatic                   160.0              286.0   \n",
       "2   67    Male     asymptomatic                   120.0              229.0   \n",
       "3   37    Male      non-anginal                   130.0              250.0   \n",
       "4   41  Female  atypical angina                   130.0              204.0   \n",
       "5   56    Male  atypical angina                   120.0              236.0   \n",
       "6   62  Female     asymptomatic                   140.0              268.0   \n",
       "7   57  Female     asymptomatic                   120.0              354.0   \n",
       "8   63    Male     asymptomatic                   130.0              254.0   \n",
       "9   53    Male     asymptomatic                   140.0              203.0   \n",
       "\n",
       "  Fasting_Blood_Sugar     Resting_ECG  Thalch Exercise_Induced_Angina  \\\n",
       "0                True  lv hypertrophy   150.0                   False   \n",
       "1               False  lv hypertrophy   108.0                    True   \n",
       "2               False  lv hypertrophy   129.0                    True   \n",
       "3               False          normal   187.0                   False   \n",
       "4               False  lv hypertrophy   172.0                   False   \n",
       "5               False          normal   178.0                   False   \n",
       "6               False  lv hypertrophy   160.0                   False   \n",
       "7               False          normal   163.0                    True   \n",
       "8               False  lv hypertrophy   147.0                   False   \n",
       "9                True  lv hypertrophy   155.0                    True   \n",
       "\n",
       "   Oldpeak        Slope   CA               Thal  Have_Heart_Disease  \n",
       "0      2.3  downsloping  0.0       fixed defect                   0  \n",
       "1      1.5         flat  3.0             normal                   1  \n",
       "2      2.6         flat  2.0  reversable defect                   1  \n",
       "3      3.5  downsloping  0.0             normal                   0  \n",
       "4      1.4    upsloping  0.0             normal                   0  \n",
       "5      0.8    upsloping  0.0             normal                   0  \n",
       "6      3.6  downsloping  2.0             normal                   1  \n",
       "7      0.6    upsloping  0.0             normal                   0  \n",
       "8      1.4         flat  1.0  reversable defect                   1  \n",
       "9      3.1  downsloping  0.0  reversable defect                   1  "
      ]
     },
     "execution_count": 14,
     "metadata": {},
     "output_type": "execute_result"
    }
   ],
   "source": [
    "df.head(10)"
   ]
  },
  {
   "cell_type": "markdown",
   "id": "be4e8106",
   "metadata": {},
   "source": [
    "Masukkan Nilai ke Missing Values"
   ]
  },
  {
   "cell_type": "code",
   "execution_count": null,
   "id": "a74b6cd0",
   "metadata": {},
   "outputs": [
    {
     "name": "stdout",
     "output_type": "stream",
     "text": [
      "<class 'pandas.core.frame.DataFrame'>\n",
      "RangeIndex: 746 entries, 0 to 745\n",
      "Data columns (total 14 columns):\n",
      " #   Column                   Non-Null Count  Dtype  \n",
      "---  ------                   --------------  -----  \n",
      " 0   Age                      746 non-null    int64  \n",
      " 1   Gender                   746 non-null    object \n",
      " 2   Chest_Pain_Type          746 non-null    object \n",
      " 3   Resting_Blood_Pressure   746 non-null    float64\n",
      " 4   Cholesterol_Level        746 non-null    float64\n",
      " 5   Fasting_Blood_Sugar      660 non-null    object \n",
      " 6   Resting_ECG              744 non-null    object \n",
      " 7   Thalch                   746 non-null    float64\n",
      " 8   Exercise_Induced_Angina  743 non-null    object \n",
      " 9   Oldpeak                  746 non-null    float64\n",
      " 10  Slope                    529 non-null    object \n",
      " 11  CA                       746 non-null    float64\n",
      " 12  Thal                     406 non-null    object \n",
      " 13  Have_Heart_Disease       746 non-null    int64  \n",
      "dtypes: float64(5), int64(2), object(7)\n",
      "memory usage: 81.7+ KB\n"
     ]
    }
   ],
   "source": [
    "df['Resting_Blood_Pressure'] = df['Resting_Blood_Pressure'].fillna(df['Resting_Blood_Pressure'].median())\n",
    "df['Cholesterol_Level'] = df['Cholesterol_Level'].fillna(df['Cholesterol_Level'].median())\n",
    "df['CA'] = df['CA'].fillna(df['CA'].median())\n",
    "df['Thalch'] = df['Thalch'].fillna(df['Thalch'].mean())\n",
    "df['Oldpeak'] = df['Oldpeak'].fillna(df['Oldpeak'].median())\n",
    "\n",
    "\n",
    "df.info()"
   ]
  },
  {
   "cell_type": "markdown",
   "id": "d7180721",
   "metadata": {},
   "source": [
    "Liat missing values selain kolom number"
   ]
  },
  {
   "cell_type": "code",
   "execution_count": 17,
   "id": "72c9cc52",
   "metadata": {},
   "outputs": [
    {
     "data": {
      "text/plain": [
       "Gender                       0\n",
       "Chest_Pain_Type              0\n",
       "Fasting_Blood_Sugar         86\n",
       "Resting_ECG                  2\n",
       "Exercise_Induced_Angina      3\n",
       "Slope                      217\n",
       "Thal                       340\n",
       "dtype: int64"
      ]
     },
     "execution_count": 17,
     "metadata": {},
     "output_type": "execute_result"
    }
   ],
   "source": [
    "df.select_dtypes(include='object').isna().sum()"
   ]
  },
  {
   "cell_type": "markdown",
   "id": "1935d644",
   "metadata": {},
   "source": [
    "isi missing values pada kolom object dengan mewnggunakan modus"
   ]
  },
  {
   "cell_type": "code",
   "execution_count": 18,
   "id": "4c55cf1f",
   "metadata": {},
   "outputs": [
    {
     "name": "stdout",
     "output_type": "stream",
     "text": [
      "<class 'pandas.core.frame.DataFrame'>\n",
      "RangeIndex: 746 entries, 0 to 745\n",
      "Data columns (total 14 columns):\n",
      " #   Column                   Non-Null Count  Dtype  \n",
      "---  ------                   --------------  -----  \n",
      " 0   Age                      746 non-null    int64  \n",
      " 1   Gender                   746 non-null    object \n",
      " 2   Chest_Pain_Type          746 non-null    object \n",
      " 3   Resting_Blood_Pressure   746 non-null    float64\n",
      " 4   Cholesterol_Level        746 non-null    float64\n",
      " 5   Fasting_Blood_Sugar      746 non-null    bool   \n",
      " 6   Resting_ECG              746 non-null    object \n",
      " 7   Thalch                   746 non-null    float64\n",
      " 8   Exercise_Induced_Angina  746 non-null    bool   \n",
      " 9   Oldpeak                  746 non-null    float64\n",
      " 10  Slope                    746 non-null    object \n",
      " 11  CA                       746 non-null    float64\n",
      " 12  Thal                     746 non-null    object \n",
      " 13  Have_Heart_Disease       746 non-null    int64  \n",
      "dtypes: bool(2), float64(5), int64(2), object(5)\n",
      "memory usage: 71.5+ KB\n"
     ]
    },
    {
     "name": "stderr",
     "output_type": "stream",
     "text": [
      "C:\\Users\\ukasy\\AppData\\Local\\Temp\\ipykernel_11648\\638984055.py:2: FutureWarning: Downcasting object dtype arrays on .fillna, .ffill, .bfill is deprecated and will change in a future version. Call result.infer_objects(copy=False) instead. To opt-in to the future behavior, set `pd.set_option('future.no_silent_downcasting', True)`\n",
      "  df[col] = df[col].fillna(df[col].mode()[0])\n"
     ]
    }
   ],
   "source": [
    "for col in df.select_dtypes(include='object').columns:\n",
    "    df[col] = df[col].fillna(df[col].mode()[0])\n",
    "\n",
    "df.info()"
   ]
  },
  {
   "cell_type": "markdown",
   "id": "7e36eca4",
   "metadata": {},
   "source": [
    "Cek DF lagi "
   ]
  },
  {
   "cell_type": "code",
   "execution_count": 19,
   "id": "20d81f28",
   "metadata": {},
   "outputs": [
    {
     "data": {
      "text/html": [
       "<div>\n",
       "<style scoped>\n",
       "    .dataframe tbody tr th:only-of-type {\n",
       "        vertical-align: middle;\n",
       "    }\n",
       "\n",
       "    .dataframe tbody tr th {\n",
       "        vertical-align: top;\n",
       "    }\n",
       "\n",
       "    .dataframe thead th {\n",
       "        text-align: right;\n",
       "    }\n",
       "</style>\n",
       "<table border=\"1\" class=\"dataframe\">\n",
       "  <thead>\n",
       "    <tr style=\"text-align: right;\">\n",
       "      <th></th>\n",
       "      <th>Age</th>\n",
       "      <th>Gender</th>\n",
       "      <th>Chest_Pain_Type</th>\n",
       "      <th>Resting_Blood_Pressure</th>\n",
       "      <th>Cholesterol_Level</th>\n",
       "      <th>Fasting_Blood_Sugar</th>\n",
       "      <th>Resting_ECG</th>\n",
       "      <th>Thalch</th>\n",
       "      <th>Exercise_Induced_Angina</th>\n",
       "      <th>Oldpeak</th>\n",
       "      <th>Slope</th>\n",
       "      <th>CA</th>\n",
       "      <th>Thal</th>\n",
       "      <th>Have_Heart_Disease</th>\n",
       "    </tr>\n",
       "  </thead>\n",
       "  <tbody>\n",
       "    <tr>\n",
       "      <th>0</th>\n",
       "      <td>63</td>\n",
       "      <td>Male</td>\n",
       "      <td>typical angina</td>\n",
       "      <td>145.0</td>\n",
       "      <td>233.0</td>\n",
       "      <td>True</td>\n",
       "      <td>lv hypertrophy</td>\n",
       "      <td>150.0</td>\n",
       "      <td>False</td>\n",
       "      <td>2.3</td>\n",
       "      <td>downsloping</td>\n",
       "      <td>0.0</td>\n",
       "      <td>fixed defect</td>\n",
       "      <td>0</td>\n",
       "    </tr>\n",
       "    <tr>\n",
       "      <th>1</th>\n",
       "      <td>67</td>\n",
       "      <td>Male</td>\n",
       "      <td>asymptomatic</td>\n",
       "      <td>160.0</td>\n",
       "      <td>286.0</td>\n",
       "      <td>False</td>\n",
       "      <td>lv hypertrophy</td>\n",
       "      <td>108.0</td>\n",
       "      <td>True</td>\n",
       "      <td>1.5</td>\n",
       "      <td>flat</td>\n",
       "      <td>3.0</td>\n",
       "      <td>normal</td>\n",
       "      <td>1</td>\n",
       "    </tr>\n",
       "    <tr>\n",
       "      <th>2</th>\n",
       "      <td>67</td>\n",
       "      <td>Male</td>\n",
       "      <td>asymptomatic</td>\n",
       "      <td>120.0</td>\n",
       "      <td>229.0</td>\n",
       "      <td>False</td>\n",
       "      <td>lv hypertrophy</td>\n",
       "      <td>129.0</td>\n",
       "      <td>True</td>\n",
       "      <td>2.6</td>\n",
       "      <td>flat</td>\n",
       "      <td>2.0</td>\n",
       "      <td>reversable defect</td>\n",
       "      <td>1</td>\n",
       "    </tr>\n",
       "    <tr>\n",
       "      <th>3</th>\n",
       "      <td>37</td>\n",
       "      <td>Male</td>\n",
       "      <td>non-anginal</td>\n",
       "      <td>130.0</td>\n",
       "      <td>250.0</td>\n",
       "      <td>False</td>\n",
       "      <td>normal</td>\n",
       "      <td>187.0</td>\n",
       "      <td>False</td>\n",
       "      <td>3.5</td>\n",
       "      <td>downsloping</td>\n",
       "      <td>0.0</td>\n",
       "      <td>normal</td>\n",
       "      <td>0</td>\n",
       "    </tr>\n",
       "    <tr>\n",
       "      <th>4</th>\n",
       "      <td>41</td>\n",
       "      <td>Female</td>\n",
       "      <td>atypical angina</td>\n",
       "      <td>130.0</td>\n",
       "      <td>204.0</td>\n",
       "      <td>False</td>\n",
       "      <td>lv hypertrophy</td>\n",
       "      <td>172.0</td>\n",
       "      <td>False</td>\n",
       "      <td>1.4</td>\n",
       "      <td>upsloping</td>\n",
       "      <td>0.0</td>\n",
       "      <td>normal</td>\n",
       "      <td>0</td>\n",
       "    </tr>\n",
       "  </tbody>\n",
       "</table>\n",
       "</div>"
      ],
      "text/plain": [
       "   Age  Gender  Chest_Pain_Type  Resting_Blood_Pressure  Cholesterol_Level  \\\n",
       "0   63    Male   typical angina                   145.0              233.0   \n",
       "1   67    Male     asymptomatic                   160.0              286.0   \n",
       "2   67    Male     asymptomatic                   120.0              229.0   \n",
       "3   37    Male      non-anginal                   130.0              250.0   \n",
       "4   41  Female  atypical angina                   130.0              204.0   \n",
       "\n",
       "   Fasting_Blood_Sugar     Resting_ECG  Thalch  Exercise_Induced_Angina  \\\n",
       "0                 True  lv hypertrophy   150.0                    False   \n",
       "1                False  lv hypertrophy   108.0                     True   \n",
       "2                False  lv hypertrophy   129.0                     True   \n",
       "3                False          normal   187.0                    False   \n",
       "4                False  lv hypertrophy   172.0                    False   \n",
       "\n",
       "   Oldpeak        Slope   CA               Thal  Have_Heart_Disease  \n",
       "0      2.3  downsloping  0.0       fixed defect                   0  \n",
       "1      1.5         flat  3.0             normal                   1  \n",
       "2      2.6         flat  2.0  reversable defect                   1  \n",
       "3      3.5  downsloping  0.0             normal                   0  \n",
       "4      1.4    upsloping  0.0             normal                   0  "
      ]
     },
     "execution_count": 19,
     "metadata": {},
     "output_type": "execute_result"
    }
   ],
   "source": [
    "df.head(5)"
   ]
  },
  {
   "cell_type": "markdown",
   "id": "fc7effa1",
   "metadata": {},
   "source": [
    "EDA"
   ]
  }
 ],
 "metadata": {
  "kernelspec": {
   "display_name": "Python 3",
   "language": "python",
   "name": "python3"
  },
  "language_info": {
   "codemirror_mode": {
    "name": "ipython",
    "version": 3
   },
   "file_extension": ".py",
   "mimetype": "text/x-python",
   "name": "python",
   "nbconvert_exporter": "python",
   "pygments_lexer": "ipython3",
   "version": "3.12.4"
  }
 },
 "nbformat": 4,
 "nbformat_minor": 5
}
